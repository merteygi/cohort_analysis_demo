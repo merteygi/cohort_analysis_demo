{
 "cells": [
  {
   "cell_type": "markdown",
   "id": "e9aaaea4",
   "metadata": {},
   "source": [
    "# 1: Code template:"
   ]
  },
  {
   "cell_type": "code",
   "execution_count": 4,
   "id": "802de617",
   "metadata": {},
   "outputs": [],
   "source": [
    "# 1. Import necessary libraries \n",
    "import pandas as pd\n",
    "import numpy as np\n",
    "import streamlit as st\n",
    "\n",
    "# 2. Set the page configuration\n",
    "st.set_page_config(\n",
    "    page_title=\"This is my title\",  # title of the page\n",
    "    page_icon=\"📈\",                  # favicon\n",
    "    layout=\"wide\",\n",
    ")\n",
    "\n",
    "# 3. Define all the functions used in your project\n",
    "# 4. For every function, add \"@st.experimental_memo\" in front of it. This is\n",
    "#     to memoize each function execution. This would make the app run faster,\n",
    "#     especially when the users interact with some elements on the dashboard\n",
    "\n",
    "@st.experimental_memo\n",
    "def function(x):\n",
    "    return y"
   ]
  },
  {
   "cell_type": "markdown",
   "id": "ecedb590",
   "metadata": {},
   "source": [
    "# 2: Cohort analysis:"
   ]
  },
  {
   "cell_type": "code",
   "execution_count": 5,
   "id": "f81dc65f",
   "metadata": {},
   "outputs": [],
   "source": [
    "import pandas as pd\n",
    "import numpy as np \n",
    "import matplotlib.pyplot as plt \n",
    "import seaborn as sns\n",
    "import matplotlib as mpl \n",
    "from datetime import date, datetime\n",
    "import streamlit as st  \n",
    "\n",
    "st.set_page_config(\n",
    "    page_title=\"Cohorts Dashboard\",\n",
    "    page_icon=\"📈\",\n",
    "    layout=\"wide\",\n",
    ")\n",
    "\n",
    "@st.experimental_memo\n",
    "def purchase_rate(customer_id):\n",
    "    purchase_rate = [1]\n",
    "    counter = 1\n",
    "    for i in range(1,len(customer_id)):\n",
    "        if customer_id[i] != customer_id[i-1]:\n",
    "            purchase_rate.append(1)\n",
    "            counter = 1\n",
    "        else:\n",
    "            counter += 1\n",
    "            purchase_rate.append(counter)\n",
    "    return purchase_rate\n",
    "@st.experimental_memo\n",
    "def join_date(date, purchase_rate):\n",
    "    join_date = list(range(len(date)))\n",
    "    for i in range(len(purchase_rate)):\n",
    "        if purchase_rate[i] == 1:\n",
    "            join_date[i] = date[i]\n",
    "        else:\n",
    "            join_date[i] = join_date[i-1]\n",
    "    return join_date\n",
    "\n",
    "# I do not define all the functions here because it would lengthen the article. \n",
    "# I will provide the full code at the end of the article."
   ]
  },
  {
   "cell_type": "code",
   "execution_count": 6,
   "id": "09c5a3b5",
   "metadata": {},
   "outputs": [
    {
     "name": "stderr",
     "output_type": "stream",
     "text": [
      "\n",
      "  \u001b[33m\u001b[1mWarning:\u001b[0m to view this Streamlit app on a browser, run it with the following\n",
      "  command:\n",
      "\n",
      "    streamlit run C:\\Users\\mert.eygi\\Anaconda3\\lib\\site-packages\\ipykernel_launcher.py [ARGUMENTS]\n",
      "2023-01-21 12:36:11.381 \n",
      "  \u001b[33m\u001b[1mWarning:\u001b[0m to view this Streamlit app on a browser, run it with the following\n",
      "  command:\n",
      "\n",
      "    streamlit run C:\\Users\\mert.eygi\\Anaconda3\\lib\\site-packages\\ipykernel_launcher.py [ARGUMENTS]\n"
     ]
    }
   ],
   "source": [
    "st.title(\"Cohort Interactive Dashboard Demo\")\n",
    "st.markdown(\"\"\"\n",
    "This webapp performs cohort analysis of my_company data!\n",
    "* **Python libraries used:** base64, pandas, streamlit, numpy, matplotlib, seaborn\n",
    "* **Data source:** [Shopify](https://company_name.myshopify.com/admin)\n",
    "* You need to select the data file first to proceed.\n",
    "\"\"\")\n",
    "uploaded_file = st.file_uploader(\"Choose a file\") # to upload file"
   ]
  }
 ],
 "metadata": {
  "kernelspec": {
   "display_name": "Python 3 (ipykernel)",
   "language": "python",
   "name": "python3"
  },
  "language_info": {
   "codemirror_mode": {
    "name": "ipython",
    "version": 3
   },
   "file_extension": ".py",
   "mimetype": "text/x-python",
   "name": "python",
   "nbconvert_exporter": "python",
   "pygments_lexer": "ipython3",
   "version": "3.9.7"
  }
 },
 "nbformat": 4,
 "nbformat_minor": 5
}
